{
  "cells": [
    {
      "cell_type": "code",
      "execution_count": null,
      "metadata": {
        "id": "gmZPINY2vha1"
      },
      "outputs": [],
      "source": [
        "import gym\n",
        "import torch\n",
        "import torch.nn as nn\n",
        "import torch.optim as optim\n",
        "import numpy as np\n",
        "import torch.nn.functional as F\n",
        "#from tensorboardX import SummaryWriter\n",
        "HIDDEN_SIZE = 128\n",
        "BATCh_SIZE = 16\n",
        "PERCENTILE = 70"
      ]
    },
    {
      "cell_type": "code",
      "execution_count": null,
      "metadata": {
        "id": "Z1f3Xb3Qvq2m"
      },
      "outputs": [],
      "source": [
        "class Net(nn.Module):\n",
        "    def __init__(self, input_size, hidden_size, output_size):\n",
        "        super(Net, self).__init__()\n",
        "\n",
        "    def forward(self, x):\n",
        "\n",
        "      return x"
      ]
    },
    {
      "cell_type": "code",
      "source": [
        "net = Net(4,128,2)\n",
        "print(net)"
      ],
      "metadata": {
        "colab": {
          "base_uri": "https://localhost:8080/"
        },
        "id": "q0W0PpayFGYv",
        "outputId": "e10f4625-3e42-4131-c29a-a086c4587a23"
      },
      "execution_count": null,
      "outputs": [
        {
          "output_type": "stream",
          "name": "stdout",
          "text": [
            "Net(\n",
            "  (fc1): Linear(in_features=4, out_features=128, bias=True)\n",
            "  (fc2): Linear(in_features=128, out_features=2, bias=True)\n",
            ")\n"
          ]
        }
      ]
    },
    {
      "cell_type": "code",
      "execution_count": null,
      "metadata": {
        "id": "5awbQVLmv0QW"
      },
      "outputs": [],
      "source": [
        "class Episode:\n",
        "    def __init__(self):\n",
        "        self.total_reward = 0\n",
        "        self.observations = []\n",
        "        self.actions = []"
      ]
    },
    {
      "cell_type": "code",
      "source": [
        "env = gym.make('CartPole-v1') \n",
        "obs = env.reset()\n",
        "model = Net(4,HIDDEN_SIZE,2)\n",
        "actions_val = model(torch.FloatTensor([obs]))\n",
        "softmax = nn.Softmax(dim=1)\n",
        "# softmax"
      ],
      "metadata": {
        "id": "VrxdyVGSTA6x"
      },
      "execution_count": null,
      "outputs": []
    },
    {
      "cell_type": "code",
      "source": [
        "p = softmax(actions_val)\n",
        "print(p.data.numpy()[0])\n",
        "print(np.random.choice(2,p=p.data.numpy()[0]))\n",
        "\n",
        "\n"
      ],
      "metadata": {
        "colab": {
          "base_uri": "https://localhost:8080/"
        },
        "id": "RfU9acrEUAxL",
        "outputId": "7d55f82e-e4b4-4714-9e94-96041f2a87a6"
      },
      "execution_count": null,
      "outputs": [
        {
          "output_type": "stream",
          "name": "stdout",
          "text": [
            "[0.5238899  0.47611004]\n",
            "0\n"
          ]
        }
      ]
    },
    {
      "cell_type": "markdown",
      "metadata": {
        "id": "Wb3PBiToWm8f"
      },
      "source": [
        "### Генерация пакета"
      ]
    },
    {
      "cell_type": "code",
      "execution_count": null,
      "metadata": {
        "id": "T_w7Aj-tv2-J"
      },
      "outputs": [],
      "source": [
        "\n",
        "def episode_batch_generator(env, model, batch_size):\n",
        "    batch = []\n",
        "    obs = env.reset()\n",
        "    episode = Episode()\n",
        "    softmax = nn.Softmax()\n",
        "    while True:\n",
        "        actions_val = model(torch.FloatTensor([obs]))\n",
        "        actions_prob = softmax(actions_val)\n",
        "        actions_prob = actions_prob.data.numpy()[0]\n",
        "        action = np.random.choice(env.action_space.n, p=actions_prob)\n",
        "        obs_next, reward, done, _ = env.step(action)\n",
        "        episode.total_reward += reward\n",
        "        episode.actions.append(action)\n",
        "        episode.observations.append(obs)\n",
        "        if done:\n",
        "            if len(batch) == batch_size:\n",
        "                yield batch\n",
        "                batch = []\n",
        "            batch.append(episode)\n",
        "            episode = Episode()\n",
        "            obs_next = env.reset()\n",
        "\n",
        "        obs = obs_next"
      ]
    },
    {
      "cell_type": "markdown",
      "metadata": {
        "id": "IXTSe0JbWlTr"
      },
      "source": [
        "###  Percentile"
      ]
    },
    {
      "cell_type": "code",
      "execution_count": null,
      "metadata": {
        "id": "iqDUnIs8v6Ce"
      },
      "outputs": [],
      "source": [
        "def filter_elite_episodes(batch, min_reward_percentice):\n",
        "    actions, observations = [], []\n",
        "    rewards = list(map(lambda e: e.total_reward, batch))\n",
        "    reward_boundary = np.percentile(rewards, min_reward_percentice)\n",
        "    observations, action_spaces = [], []\n",
        "    for episode in batch:\n",
        "        if episode.total_reward < reward_boundary:\n",
        "            continue\n",
        "\n",
        "        observations.extend(episode.observations)\n",
        "        actions.extend(episode.actions)\n",
        "    mean_rewards = np.mean(rewards)\n",
        "    return torch.FloatTensor(observations), torch.LongTensor(actions), mean_rewards"
      ]
    },
    {
      "cell_type": "code",
      "execution_count": null,
      "metadata": {
        "id": "8aH0Rz1iv965"
      },
      "outputs": [],
      "source": [
        "def train():\n",
        "    env = gym.make('CartPole-v1') # ,new_step_api=True\n",
        "    model = Net(env.observation_space.shape[0], HIDDEN_SIZE, env.action_space.n)\n",
        "    optimizer = optim.Adam(model.parameters(), lr=0.01)\n",
        "    loss_fn = nn.CrossEntropyLoss()\n",
        "   # writer = SummaryWriter()\n",
        "    for itr, batch in enumerate(episode_batch_generator(env, model, BATCh_SIZE)):\n",
        "        observations, actions, mean_rewards = filter_elite_episodes(batch, PERCENTILE)\n",
        "        optimizer.zero_grad()\n",
        "        actions_val = model(observations)\n",
        "        loss = loss_fn(actions_val, actions)\n",
        "        loss.backward()\n",
        "        optimizer.step()\n",
        "       # writer.add_scalar('loss', loss.item(), itr)\n",
        "       # writer.add_scalar('reward', mean_rewards.item(), itr)\n",
        "        print(f'\\rItr:{itr}, loss :{loss}, mean reward: {mean_rewards}', end='')\n",
        "        if mean_rewards > 199:\n",
        "            print('\\nSolved')\n",
        "            break"
      ]
    },
    {
      "cell_type": "code",
      "execution_count": null,
      "metadata": {
        "colab": {
          "base_uri": "https://localhost:8080/"
        },
        "id": "IZ1NJX31wCJj",
        "outputId": "362b91f2-97b8-47fc-df99-1173bf8d147d"
      },
      "outputs": [
        {
          "output_type": "stream",
          "name": "stderr",
          "text": [
            "/usr/local/lib/python3.7/dist-packages/ipykernel_launcher.py:8: UserWarning: Implicit dimension choice for softmax has been deprecated. Change the call to include dim=X as an argument.\n",
            "  \n"
          ]
        },
        {
          "output_type": "stream",
          "name": "stdout",
          "text": [
            "Itr:45, loss :0.5322495102882385, mean reward: 225.875\n",
            "Solved\n"
          ]
        }
      ],
      "source": [
        "train()"
      ]
    },
    {
      "cell_type": "code",
      "execution_count": 50,
      "metadata": {
        "id": "GTFYLHoywp_e",
        "colab": {
          "base_uri": "https://localhost:8080/",
          "height": 269
        },
        "outputId": "b5ab221d-a42a-4e13-d1a0-639187a2141a"
      },
      "outputs": [
        {
          "output_type": "display_data",
          "data": {
            "text/plain": [
              "<Figure size 432x288 with 1 Axes>"
            ],
            "image/png": "[encoded data removed]"
          },
          "metadata": {
            "needs_background": "light"
          }
        }
      ],
      "source": [
        "#!pip install gym[classic_control]\n",
        "import pygame\n",
        "pygame.init()\n",
        "import sys, os\n",
        "\n",
        "\n",
        "import time\n",
        "import matplotlib.pyplot as plt\n",
        "%matplotlib inline\n",
        "env = gym.make('CartPole-v1')\n",
        "\n",
        "state = env.reset()\n",
        "img = plt.imshow(env.render(mode=\"rgb_array\"))\n",
        "\n",
        "for t in range(1000):\n",
        "    actions_val = model(torch.FloatTensor([state]))\n",
        "    \n",
        "    actions_prob = softmax(actions_val)\n",
        "    actions_prob = actions_prob.data.numpy()[0]\n",
        "    action = np.random.choice(env.action_space.n, p=actions_prob)\n",
        "    env.render(mode=\"rgb_array\") # mode=\"rgb_array\"\n",
        "    plt.imshow(env.render(mode=\"rgb_array\"))\n",
        "    time.sleep(0.1)\n",
        "    \n",
        "    state, reward, done, _ = env.step(action)\n",
        "    if done:\n",
        "        break \n",
        "\n",
        "env.close()"
      ]
    },
    {
      "cell_type": "markdown",
      "source": [
        "list(batch)"
      ],
      "metadata": {
        "id": "0cVpFqMxHKRA"
      }
    },
    {
      "cell_type": "code",
      "execution_count": null,
      "metadata": {
        "id": "VjzAIDmbHMov"
      },
      "outputs": [],
      "source": []
    }
  ],
  "metadata": {
    "colab": {
      "provenance": [],
      "collapsed_sections": []
    },
    "kernelspec": {
      "display_name": "Python 3",
      "name": "python3"
    },
    "language_info": {
      "name": "python"
    }
  },
  "nbformat": 4,
  "nbformat_minor": 0
}