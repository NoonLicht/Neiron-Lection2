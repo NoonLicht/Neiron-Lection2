{
 "cells": [
  {
   "cell_type": "code",
   "execution_count": 41,
   "id": "e2ffe251-6689-4192-816d-da766052d061",
   "metadata": {},
   "outputs": [],
   "source": [
    "import torch\n",
    "import numpy as np"
   ]
  },
  {
   "cell_type": "markdown",
   "id": "d85220c5-96ff-47ac-b4f3-8e5f3b8c1bb4",
   "metadata": {},
   "source": [
    "## Создание тензоров"
   ]
  },
  {
   "cell_type": "code",
   "execution_count": 3,
   "id": "9f33f5ae-a057-478b-acc6-e0c98d6c3c03",
   "metadata": {},
   "outputs": [],
   "source": [
    "v = torch.empty(2,3)\n",
    "V = torch.empty_like(v)"
   ]
  },
  {
   "cell_type": "code",
   "execution_count": 4,
   "id": "4529593d-77d5-4b02-b09c-db418f4d24f6",
   "metadata": {},
   "outputs": [
    {
     "data": {
      "text/plain": [
       "tensor([[ 3.3631e-44,  5.0850e+31, -5.2426e+17],\n",
       "        [ 4.5623e-41,  1.4013e-45,  5.2839e-11]])"
      ]
     },
     "execution_count": 4,
     "metadata": {},
     "output_type": "execute_result"
    }
   ],
   "source": [
    "v"
   ]
  },
  {
   "cell_type": "code",
   "execution_count": 5,
   "id": "fd1cfe61-cf97-42c4-acb1-2c162ebb5f51",
   "metadata": {},
   "outputs": [],
   "source": [
    "x = torch.tensor([1.,2.,3.], dtype=torch.float16)"
   ]
  },
  {
   "cell_type": "code",
   "execution_count": 6,
   "id": "9290f384-c98b-4f0f-a402-c741d908bbce",
   "metadata": {},
   "outputs": [
    {
     "data": {
      "text/plain": [
       "torch.float16"
      ]
     },
     "execution_count": 6,
     "metadata": {},
     "output_type": "execute_result"
    }
   ],
   "source": [
    "x.dtype"
   ]
  },
  {
   "cell_type": "code",
   "execution_count": 7,
   "id": "04c4aa9c-4a0b-40cf-a05b-a5896269b7f5",
   "metadata": {},
   "outputs": [],
   "source": [
    "y = torch.tensor([0.5, 0.3],dtype=torch.double)"
   ]
  },
  {
   "cell_type": "code",
   "execution_count": 8,
   "id": "18f8ca89-2bba-4e43-9d4a-a4e59c01c94c",
   "metadata": {},
   "outputs": [
    {
     "data": {
      "text/plain": [
       "torch.Size([2])"
      ]
     },
     "execution_count": 8,
     "metadata": {},
     "output_type": "execute_result"
    }
   ],
   "source": [
    "y.shape"
   ]
  },
  {
   "cell_type": "code",
   "execution_count": 9,
   "id": "8d0e241b-0345-4f29-9d38-f4945db3a238",
   "metadata": {},
   "outputs": [],
   "source": [
    "Y = y.long()"
   ]
  },
  {
   "cell_type": "code",
   "execution_count": 10,
   "id": "a1311f58-e7ac-4033-b37a-58a1de9e6947",
   "metadata": {},
   "outputs": [
    {
     "data": {
      "text/plain": [
       "tensor([0, 0])"
      ]
     },
     "execution_count": 10,
     "metadata": {},
     "output_type": "execute_result"
    }
   ],
   "source": [
    "Y"
   ]
  },
  {
   "cell_type": "code",
   "execution_count": 43,
   "id": "b156120d-0747-4a91-9c2f-0b1237ee3d74",
   "metadata": {},
   "outputs": [],
   "source": [
    "z = np.random.rand(3,2)\n",
    "Z = torch.from_numpy(z)"
   ]
  },
  {
   "cell_type": "markdown",
   "id": "9688ae7f-9cac-439e-994f-19be1e1759c5",
   "metadata": {},
   "source": [
    "## Инициализация"
   ]
  },
  {
   "cell_type": "code",
   "execution_count": 11,
   "id": "11224d4f-c2f3-4205-913f-c602999e0842",
   "metadata": {},
   "outputs": [],
   "source": [
    "z = torch.zeros(2,3)"
   ]
  },
  {
   "cell_type": "code",
   "execution_count": 12,
   "id": "e122ddf7-ee07-48ea-a139-d95cb80e2bef",
   "metadata": {},
   "outputs": [],
   "source": [
    "yy = torch.zeros_like(y)"
   ]
  },
  {
   "cell_type": "code",
   "execution_count": 13,
   "id": "1d57f3c1-175d-4cb6-aa55-60f31c8fb153",
   "metadata": {},
   "outputs": [
    {
     "data": {
      "text/plain": [
       "tensor([[1.5000, 1.5000, 1.5000],\n",
       "        [1.5000, 1.5000, 1.5000]])"
      ]
     },
     "execution_count": 13,
     "metadata": {},
     "output_type": "execute_result"
    }
   ],
   "source": [
    "torch.full((2,3),1.5)"
   ]
  },
  {
   "cell_type": "code",
   "execution_count": 14,
   "id": "51982d60-1ef2-485d-86e9-b317837dc344",
   "metadata": {},
   "outputs": [
    {
     "data": {
      "text/plain": [
       "tensor([[ 0.2984, -0.5755],\n",
       "        [ 0.6799,  1.3771],\n",
       "        [ 0.0274, -0.4682]])"
      ]
     },
     "execution_count": 14,
     "metadata": {},
     "output_type": "execute_result"
    }
   ],
   "source": [
    "torch.randn(3,2)"
   ]
  },
  {
   "cell_type": "code",
   "execution_count": 15,
   "id": "8fec8e59-1a6b-4302-8e44-d2cb296e9f14",
   "metadata": {},
   "outputs": [
    {
     "data": {
      "text/plain": [
       "tensor([0, 1, 2, 3])"
      ]
     },
     "execution_count": 15,
     "metadata": {},
     "output_type": "execute_result"
    }
   ],
   "source": [
    "torch.arange(4)"
   ]
  },
  {
   "cell_type": "code",
   "execution_count": 16,
   "id": "5cbda1a3-d1d3-4e74-957e-24929bc1278a",
   "metadata": {},
   "outputs": [
    {
     "data": {
      "text/plain": [
       "tensor([2, 5, 8])"
      ]
     },
     "execution_count": 16,
     "metadata": {},
     "output_type": "execute_result"
    }
   ],
   "source": [
    "torch.arange(2,10,3)"
   ]
  },
  {
   "cell_type": "code",
   "execution_count": 17,
   "id": "69d13d14-1ee5-4ec8-9c77-5eb3a7a43408",
   "metadata": {},
   "outputs": [
    {
     "data": {
      "text/plain": [
       "tensor([1, 0])"
      ]
     },
     "execution_count": 17,
     "metadata": {},
     "output_type": "execute_result"
    }
   ],
   "source": [
    "torch.randperm(2)"
   ]
  },
  {
   "cell_type": "code",
   "execution_count": 18,
   "id": "a736cd28-4540-4411-8adc-95d917fe5e50",
   "metadata": {},
   "outputs": [
    {
     "data": {
      "text/plain": [
       "tensor([[9, 9],\n",
       "        [1, 2],\n",
       "        [9, 1]])"
      ]
     },
     "execution_count": 18,
     "metadata": {},
     "output_type": "execute_result"
    }
   ],
   "source": [
    "torch.randint(1,10,(3,2))"
   ]
  },
  {
   "cell_type": "markdown",
   "id": "195cde31-53d0-42d4-8635-5c4c52f25406",
   "metadata": {},
   "source": [
    "## Управление памятью"
   ]
  },
  {
   "cell_type": "code",
   "execution_count": 19,
   "id": "c33a5482-3564-4550-bdcb-9f0474d394f9",
   "metadata": {},
   "outputs": [
    {
     "name": "stdout",
     "output_type": "stream",
     "text": [
      "tensor([1.])\n",
      "1.0\n",
      "tensor([2.7183])\n",
      "2.0\n"
     ]
    }
   ],
   "source": [
    "x = torch.ones(1)                        # вектор из одной компоненты\n",
    "y = x.exp()                              # разная память:\n",
    "print(x)\n",
    "y[0]=2;  print(x.item())       # tensor([1.])      1.0\n",
    " \n",
    "y = x.exp_()                             # одна память:\n",
    "print(x);  y[0]=2;  print(x.item()) "
   ]
  },
  {
   "cell_type": "code",
   "execution_count": 20,
   "id": "18a61486-f176-4d15-847d-58b7879daaa5",
   "metadata": {},
   "outputs": [
    {
     "data": {
      "text/plain": [
       "tensor([[0., 0., 0.],\n",
       "        [0., 0., 0.]])"
      ]
     },
     "execution_count": 20,
     "metadata": {},
     "output_type": "execute_result"
    }
   ],
   "source": [
    "x = torch.empty(2, 3).fill_(-1)          # матрица из -1\n",
    "x.zero_()   "
   ]
  },
  {
   "cell_type": "code",
   "execution_count": 21,
   "id": "417cf4e9-44be-4ac7-b371-6aff5cb25ffe",
   "metadata": {},
   "outputs": [],
   "source": [
    "y = x                                    # y и z - один объект\n",
    "y = x.clone()                            # копирование \n",
    " \n",
    "y.copy_(x)                               # копирует в себя x (broadcastable)\n",
    "y = torch.empty_like(x).copy_(x)         # выделяем память и копируем "
   ]
  },
  {
   "cell_type": "markdown",
   "id": "4a347689-ce5a-4e06-b220-c7c9984cce48",
   "metadata": {},
   "source": [
    "## Операции"
   ]
  },
  {
   "cell_type": "code",
   "execution_count": 22,
   "id": "ad96bada-7c1f-43e6-bc2f-af3bd24b4ed2",
   "metadata": {},
   "outputs": [],
   "source": [
    "x1, x2 = torch.ones(2,3),  torch.ones(2,3)  \n",
    " \n",
    "x1[0]   = 2           # меням первую строчку на 2 [ [2., 2., 2.],  [1., 1., 1.]]\n",
    "x2[:,1] = 3           # меням вторую колонку на 3 [ [1., 3., 1.],  [1., 3., 1.]]\n",
    " \n",
    "y = x1 + x2           # складываем                [ [3., 5., 3.],  [2., 4., 2.]]"
   ]
  },
  {
   "cell_type": "code",
   "execution_count": 23,
   "id": "d9973629-e95a-44f1-99db-8609653ddc74",
   "metadata": {},
   "outputs": [
    {
     "data": {
      "text/plain": [
       "tensor([[108., 500., 108.],\n",
       "        [ 32., 256.,  32.]])"
      ]
     },
     "execution_count": 23,
     "metadata": {},
     "output_type": "execute_result"
    }
   ],
   "source": [
    "x += y\n",
    "x.add_(y)             # к тензору x добавили y (инкриментация)\n",
    "x.add_(y, alpha=2.0)  # x += 2*y (так быстрее для больших тензоров)\n",
    " \n",
    "x *= y\n",
    "x.mul_(y)"
   ]
  },
  {
   "cell_type": "code",
   "execution_count": 24,
   "id": "4e0f7c4b-9d3a-4181-9499-932886e044da",
   "metadata": {},
   "outputs": [
    {
     "name": "stdout",
     "output_type": "stream",
     "text": [
      "tensor([[False,  True, False],\n",
      "        [ True, False, False]])\n"
     ]
    },
    {
     "data": {
      "text/plain": [
       "tensor([232, 169], dtype=torch.uint8)"
      ]
     },
     "execution_count": 24,
     "metadata": {},
     "output_type": "execute_result"
    }
   ],
   "source": [
    "a = torch.ByteTensor(2,3).random_() # случайные байты [[185,  16, 242], [223, 147, 202]]\n",
    " \n",
    "print(a > 128)                      # [[ True, False,  True], [ True,  True,  True]]\n",
    "a[a > 128]                          # [185, 242, 223, 147, 202] - элементы, большие 128"
   ]
  },
  {
   "cell_type": "code",
   "execution_count": 25,
   "id": "887bbd46-68b5-4478-8176-12a75f3b036d",
   "metadata": {},
   "outputs": [],
   "source": [
    "X = torch.arange(10)                # [ 0, 1, 2, 3, 4, 5, 6, 7, 8, 9]\n",
    "Y = -X                              # [ 0,-1,-2,-3,-4,-5,-6,-7,-8,-9]\n",
    " \n",
    "idx = torch.randperm(X.shape[0])    # перестановка индексов\n",
    "X = X[idx]                          # [ 4, 9, 7, 3, 2, 0, 5, 6, 1, 8]\n",
    "Y = Y[idx]                          # [-4,-9,-7,-3,-2, 0,-5,-6,-1,-8]                          "
   ]
  },
  {
   "cell_type": "code",
   "execution_count": 26,
   "id": "3f68002f-ebfa-4a99-a055-6a435889a3fd",
   "metadata": {},
   "outputs": [
    {
     "data": {
      "text/plain": [
       "tensor([[-3, -2, -1],\n",
       "        [ 0,  1,  2]])"
      ]
     },
     "execution_count": 26,
     "metadata": {},
     "output_type": "execute_result"
    }
   ],
   "source": [
    "x1 = torch.arange(-3,0)             # [-3, -2, -1]\n",
    "x2 = torch.arange(3)                # [ 0,  1,  2]\n",
    " \n",
    "torch.cat([x1, x2], dim=0)          #  [-3, -2, -1,  0,  1,  2]    конкатенация \n",
    "torch.stack([x1, x2])               # [[-3, -2, -1], [ 0,  1,  2]]"
   ]
  },
  {
   "cell_type": "markdown",
   "id": "eebf952b-335d-4ba9-a81a-43d69f344c2c",
   "metadata": {},
   "source": [
    "## Тензорные операции"
   ]
  },
  {
   "cell_type": "code",
   "execution_count": 27,
   "id": "b50467ed-bcfa-42a6-96aa-0ad8e4d6b908",
   "metadata": {},
   "outputs": [
    {
     "data": {
      "text/plain": [
       "tensor([[273328., 134912.],\n",
       "        [134912.,  67584.]])"
      ]
     },
     "execution_count": 27,
     "metadata": {},
     "output_type": "execute_result"
    }
   ],
   "source": [
    "u = torch.tensor([1,2,3],dtype=torch.float)\n",
    "t = u.dot(u)                # cкалярное умножение - только 1D векторов\n",
    "\n",
    "x.mv(u)                 # матрица на вектор: (n,s) (s)   = (n)\n",
    "x.mm(x.T)                 # только 2D матриц : (n,s) (s,m) = (n,m)\n",
    "x.matmul(x.T)             # аналог из numpy: (j,1, n,s) (k, s,m) = (j,k, n,m)"
   ]
  },
  {
   "cell_type": "code",
   "execution_count": 28,
   "id": "de0c00b0-f1f3-4897-a3b0-2e336f61c7b3",
   "metadata": {},
   "outputs": [],
   "source": [
    "x = torch.Tensor([[2,1,3],\n",
    "                  [1,2,1]])\n",
    "x.sum(1)                # [6., 4.]   cумма     \n",
    "x.mean(1)               # [2., 1.33] cреднее   \n",
    "x.prod(1)               # [6., 2.]   произведение \n",
    " \n",
    "x.argmin(1)             # [1, 2]\n",
    " \n",
    "v,i = x.topk(2, dim=0)  # 2 наибольших значений и их индексов"
   ]
  },
  {
   "cell_type": "code",
   "execution_count": 29,
   "id": "6bcc9af4-0212-4a5d-9637-9012fd97b261",
   "metadata": {},
   "outputs": [
    {
     "data": {
      "text/plain": [
       "tensor([[1, 0, 1],\n",
       "        [0, 1, 0]])"
      ]
     },
     "execution_count": 29,
     "metadata": {},
     "output_type": "execute_result"
    }
   ],
   "source": [
    "v,i= x.sort(dim=0) \n",
    "i"
   ]
  },
  {
   "cell_type": "markdown",
   "id": "5143548b-8d00-4b67-9803-0c5fb077c5df",
   "metadata": {},
   "source": [
    "## Изменение формы"
   ]
  },
  {
   "cell_type": "code",
   "execution_count": 30,
   "id": "239cab30-c382-40c9-b831-cf922e4d97f2",
   "metadata": {},
   "outputs": [
    {
     "data": {
      "text/plain": [
       "tensor([[0, 1, 2],\n",
       "        [3, 4, 5]])"
      ]
     },
     "execution_count": 30,
     "metadata": {},
     "output_type": "execute_result"
    }
   ],
   "source": [
    "torch.arange(6).view(2,3)         #    tensor([[0, 1, 2],\n",
    "torch.arange(6).reshape(2,3)      #            [3, 4, 5]])"
   ]
  },
  {
   "cell_type": "code",
   "execution_count": 31,
   "id": "62db5bcf-49cf-40cb-8540-49df32a6a23b",
   "metadata": {},
   "outputs": [
    {
     "data": {
      "text/plain": [
       "tensor([[0., 0., 0., 0., 0.],\n",
       "        [0., 0., 0., 0., 0.]])"
      ]
     },
     "execution_count": 31,
     "metadata": {},
     "output_type": "execute_result"
    }
   ],
   "source": [
    "a, b = torch.zeros(2,5), torch.zeros(10)\n",
    "b.view_as(a)"
   ]
  },
  {
   "cell_type": "code",
   "execution_count": 32,
   "id": "64d6110d-8ef7-478e-aaa2-c70d3639313c",
   "metadata": {},
   "outputs": [],
   "source": [
    "z = x.t()                              # сам x не меняется\n",
    "z = x.t_()                             # меняется x"
   ]
  },
  {
   "cell_type": "code",
   "execution_count": 33,
   "id": "fac0fff2-4148-4806-86e0-37415711e406",
   "metadata": {},
   "outputs": [
    {
     "data": {
      "text/plain": [
       "tensor([[2., 1., 3.],\n",
       "        [1., 2., 1.]])"
      ]
     },
     "execution_count": 33,
     "metadata": {},
     "output_type": "execute_result"
    }
   ],
   "source": [
    "x.transpose(0, 1)                      # перестановка осей 1 и 2"
   ]
  },
  {
   "cell_type": "code",
   "execution_count": 34,
   "id": "fb5b892a-b72e-4a05-a49f-91849aaf5a92",
   "metadata": {},
   "outputs": [
    {
     "data": {
      "text/plain": [
       "torch.Size([5, 2, 3])"
      ]
     },
     "execution_count": 34,
     "metadata": {},
     "output_type": "execute_result"
    }
   ],
   "source": [
    "x = torch.randn(3, 5)               \n",
    "x.permute(1, 0) == x.t()               # эквивалентно транспонированию\n",
    " \n",
    "x = torch.randn(2, 3, 5)\n",
    "x.permute(2, 0, 1).size()              # torch.Size([5, 2, 3])"
   ]
  },
  {
   "cell_type": "markdown",
   "id": "5f7713e0-5ed8-4657-831a-7bd7291189b8",
   "metadata": {},
   "source": [
    "GPU"
   ]
  },
  {
   "cell_type": "code",
   "execution_count": 35,
   "id": "3b141197-e8ec-4af3-b385-7920faae8f38",
   "metadata": {},
   "outputs": [],
   "source": [
    "x1 = torch.eye(10000)\n",
    "y1 = torch.eye(10000)\n",
    "z1 = x1.mm(y1)                         "
   ]
  },
  {
   "cell_type": "code",
   "execution_count": 36,
   "id": "c6640e16-ad89-4f77-b681-16e7cd3376ee",
   "metadata": {},
   "outputs": [
    {
     "data": {
      "text/plain": [
       "tensor([[1., 0., 0.,  ..., 0., 0., 0.],\n",
       "        [0., 1., 0.,  ..., 0., 0., 0.],\n",
       "        [0., 0., 1.,  ..., 0., 0., 0.],\n",
       "        ...,\n",
       "        [0., 0., 0.,  ..., 1., 0., 0.],\n",
       "        [0., 0., 0.,  ..., 0., 1., 0.],\n",
       "        [0., 0., 0.,  ..., 0., 0., 1.]])"
      ]
     },
     "execution_count": 36,
     "metadata": {},
     "output_type": "execute_result"
    }
   ],
   "source": [
    "z1"
   ]
  },
  {
   "cell_type": "code",
   "execution_count": 37,
   "id": "fe33ed6c-2698-486a-a79b-66725b8f9f92",
   "metadata": {},
   "outputs": [],
   "source": [
    "torch.cuda.device_count()              # число доступных GPU\n",
    " \n",
    "cpu = torch.device(\"cpu\")\n",
    "gpu = torch.device(\"cuda:0\" if torch.cuda.is_available() else \"cpu\")"
   ]
  },
  {
   "cell_type": "code",
   "execution_count": 38,
   "id": "613bf430-ed4c-4d85-949f-ce69939e4902",
   "metadata": {},
   "outputs": [],
   "source": [
    "# x1 = torch.eye(10000, device = gpu)\n",
    "# y1 = torch.eye(10000, device = gpu)\n",
    "# z1 = x1.mm(y1)                         # 0.04s"
   ]
  },
  {
   "cell_type": "code",
   "execution_count": 39,
   "id": "87adab19-966c-4e8a-89b8-0cbd000162e8",
   "metadata": {},
   "outputs": [],
   "source": [
    "# x1 = torch.eye(10000).to(gpu)\n",
    "# y1 = torch.eye(10000).to(gpu)\n",
    "# z1 = x1.mm(y1).to(cpu)  "
   ]
  },
  {
   "cell_type": "code",
   "execution_count": null,
   "id": "443d86a1-6924-47f4-a7bf-b191ac955ad1",
   "metadata": {},
   "outputs": [],
   "source": []
  },
  {
   "cell_type": "code",
   "execution_count": null,
   "id": "8cca218a-b1d3-48d6-a51e-de54b779fac9",
   "metadata": {},
   "outputs": [],
   "source": [
    "# torch.cuda.empty_cache()"
   ]
  },
  {
   "cell_type": "code",
   "execution_count": null,
   "id": "573fb2ba-b9f5-4c21-ba94-3ee0ca903fee",
   "metadata": {},
   "outputs": [],
   "source": []
  }
 ],
 "metadata": {
  "kernelspec": {
   "display_name": "Python 3 (ipykernel)",
   "language": "python",
   "name": "python3"
  },
  "language_info": {
   "codemirror_mode": {
    "name": "ipython",
    "version": 3
   },
   "file_extension": ".py",
   "mimetype": "text/x-python",
   "name": "python",
   "nbconvert_exporter": "python",
   "pygments_lexer": "ipython3",
   "version": "3.10.4"
  }
 },
 "nbformat": 4,
 "nbformat_minor": 5
}
