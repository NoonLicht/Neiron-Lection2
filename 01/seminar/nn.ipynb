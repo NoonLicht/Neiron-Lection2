{
 "cells": [
  {
   "cell_type": "code",
   "execution_count": 1,
   "id": "9bcf034c-3985-48df-b2bb-b9bea5657422",
   "metadata": {},
   "outputs": [],
   "source": [
    "import torch\n",
    "import torch.nn as nn\n",
    "import torch.nn.functional as F"
   ]
  },
  {
   "cell_type": "markdown",
   "id": "fe92027b-8a5d-4c04-a991-77209cf772d8",
   "metadata": {},
   "source": [
    "## Создаем нейронную сеть"
   ]
  },
  {
   "cell_type": "code",
   "execution_count": 66,
   "id": "e2e1fffa-23f5-48af-9836-2ab05a621dcc",
   "metadata": {},
   "outputs": [],
   "source": [
    "class conv_net(nn.Module):\n",
    "    def __init__(self):\n",
    "        super(net,self).__init__()\n",
    "        \n",
    "    \n",
    "        \n",
    "    def forward(self,x):\n",
    "        \n",
    "        return x\n",
    "#net = conv_net()\n",
    "#print(net)\n",
    "        "
   ]
  },
  {
   "cell_type": "markdown",
   "id": "29569973-fe04-4dfe-ad29-29e68fb85275",
   "metadata": {},
   "source": [
    "###  Параметры НС"
   ]
  },
  {
   "cell_type": "code",
   "execution_count": null,
   "id": "460a8c54-71e8-4186-ac86-9513b1aac2ee",
   "metadata": {},
   "outputs": [],
   "source": []
  },
  {
   "cell_type": "markdown",
   "id": "6e1c2a22-4307-4907-8d37-6c4c628adb40",
   "metadata": {},
   "source": [
    "#### Генерация случайной картинки и расчет результата "
   ]
  },
  {
   "cell_type": "code",
   "execution_count": 43,
   "id": "5b5f9dec-bfa4-4877-b1d6-5e918b74652a",
   "metadata": {},
   "outputs": [],
   "source": []
  },
  {
   "cell_type": "markdown",
   "id": "9781aa0b-e166-493d-8374-6b733a4847d3",
   "metadata": {},
   "source": [
    "### Loss"
   ]
  },
  {
   "cell_type": "code",
   "execution_count": null,
   "id": "2862e4a9-5acd-4cbd-b82b-1c9d6113ef7e",
   "metadata": {},
   "outputs": [],
   "source": []
  },
  {
   "cell_type": "markdown",
   "id": "f45737c7-7425-480c-bb03-c0e2cacf7f3a",
   "metadata": {},
   "source": [
    "### Обратное распространение"
   ]
  },
  {
   "cell_type": "code",
   "execution_count": null,
   "id": "56a39cd4-45ca-4243-bed8-a92f529fc80d",
   "metadata": {},
   "outputs": [],
   "source": []
  },
  {
   "cell_type": "markdown",
   "id": "f248d221-05cc-4245-92f1-4321f6821950",
   "metadata": {},
   "source": [
    "### Обновление весов"
   ]
  },
  {
   "cell_type": "code",
   "execution_count": null,
   "id": "df6dbb80-317b-4adb-8872-e5c23ccf7f23",
   "metadata": {},
   "outputs": [],
   "source": []
  }
 ],
 "metadata": {
  "kernelspec": {
   "display_name": "Python 3 (ipykernel)",
   "language": "python",
   "name": "python3"
  },
  "language_info": {
   "codemirror_mode": {
    "name": "ipython",
    "version": 3
   },
   "file_extension": ".py",
   "mimetype": "text/x-python",
   "name": "python",
   "nbconvert_exporter": "python",
   "pygments_lexer": "ipython3",
   "version": "3.10.4"
  }
 },
 "nbformat": 4,
 "nbformat_minor": 5
}
