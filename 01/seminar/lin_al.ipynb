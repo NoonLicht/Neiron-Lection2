{
 "cells": [
  {
   "cell_type": "markdown",
   "id": "1707b8b6-f5c0-4c7b-8476-6a677a8f30c4",
   "metadata": {},
   "source": [
    "# Основные матричные операции"
   ]
  },
  {
   "cell_type": "code",
   "execution_count": 2,
   "id": "2a7f549c-7bc9-4d49-805d-9b33e1cad2c9",
   "metadata": {},
   "outputs": [],
   "source": [
    "import numpy as np"
   ]
  },
  {
   "cell_type": "markdown",
   "id": "5a075923-03b0-4d3d-9ee2-fb8462488fd3",
   "metadata": {},
   "source": [
    "## Создание матрицы размером MxN"
   ]
  },
  {
   "cell_type": "markdown",
   "id": "042a2de0-dae1-47ad-98fd-6c1061ac5699",
   "metadata": {},
   "source": [
    "### Создание пользовательской матрицы"
   ]
  },
  {
   "cell_type": "code",
   "execution_count": 6,
   "id": "f7598dba-4e6c-41ab-bd9d-5fd7ad26506e",
   "metadata": {},
   "outputs": [],
   "source": [
    "# your cod"
   ]
  },
  {
   "cell_type": "markdown",
   "id": "8fd4e261-3753-4bc6-84c3-10a711a6cab9",
   "metadata": {},
   "source": [
    "### Создание специальных матриц"
   ]
  },
  {
   "cell_type": "markdown",
   "id": "91dcfe21-c540-4507-9af4-300957c420a3",
   "metadata": {},
   "source": [
    "####  Нулевая"
   ]
  },
  {
   "cell_type": "code",
   "execution_count": 8,
   "id": "a7e5390f-993a-4297-bdbc-d626121648b4",
   "metadata": {},
   "outputs": [],
   "source": [
    "# your cod"
   ]
  },
  {
   "cell_type": "markdown",
   "id": "132eeeca-a14c-4146-bdc4-7ac1ed6e7a5b",
   "metadata": {},
   "source": [
    "#### Единичная"
   ]
  },
  {
   "cell_type": "code",
   "execution_count": 9,
   "id": "7e889b4e-377c-4c02-9287-fd7ad324d510",
   "metadata": {},
   "outputs": [],
   "source": [
    "# your cod"
   ]
  },
  {
   "cell_type": "markdown",
   "id": "c5f0ae12-8e70-4262-9021-cec35707356e",
   "metadata": {},
   "source": [
    "#### Случайная с нормальным распределением"
   ]
  },
  {
   "cell_type": "code",
   "execution_count": 83,
   "id": "1c24e437-059a-4ab4-adef-1e8e53314547",
   "metadata": {},
   "outputs": [],
   "source": [
    "# your cod"
   ]
  },
  {
   "cell_type": "markdown",
   "id": "495bbc0f-5d4d-4d84-8617-a98e8f0c9240",
   "metadata": {},
   "source": [
    "## Размер матрицы"
   ]
  },
  {
   "cell_type": "markdown",
   "id": "abcb4cce-85d5-49bd-8aa1-f7e9f25245f2",
   "metadata": {},
   "source": [
    "#### Размерность (количество измерений)"
   ]
  },
  {
   "cell_type": "code",
   "execution_count": 18,
   "id": "1a8c9b0a-636d-4369-bd8b-a309d7130006",
   "metadata": {},
   "outputs": [],
   "source": [
    "# your cod"
   ]
  },
  {
   "cell_type": "markdown",
   "id": "a2b77816-d956-4cd1-bca3-8278a698f575",
   "metadata": {},
   "source": [
    "#### Количество элементов матрицы"
   ]
  },
  {
   "cell_type": "code",
   "execution_count": null,
   "id": "9b66aeeb-4025-4930-ab38-b99e87d4c903",
   "metadata": {},
   "outputs": [],
   "source": [
    "# your code"
   ]
  },
  {
   "cell_type": "markdown",
   "id": "c76e79e7-e553-44e5-aab7-663782851c0a",
   "metadata": {},
   "source": [
    "#### Количество элементов по каждой размерности"
   ]
  },
  {
   "cell_type": "code",
   "execution_count": 84,
   "id": "dfc68190-f86c-435c-b42e-30b66208f174",
   "metadata": {},
   "outputs": [],
   "source": [
    "# your code"
   ]
  },
  {
   "cell_type": "markdown",
   "id": "cba0b9a8-c9a8-4713-90e7-cc389e9d824d",
   "metadata": {},
   "source": [
    "## Блочные матрицы"
   ]
  },
  {
   "cell_type": "code",
   "execution_count": 27,
   "id": "c01b2feb-833c-40b6-82f1-18578aa9f264",
   "metadata": {},
   "outputs": [],
   "source": [
    "A = np.random.rand(2,3)\n",
    "B = np.ones((2,2))"
   ]
  },
  {
   "cell_type": "markdown",
   "id": "0b18ac6b-27f0-4705-9684-01b0daae0354",
   "metadata": {},
   "source": [
    " ### Объединить матрицы A и B "
   ]
  },
  {
   "cell_type": "code",
   "execution_count": 34,
   "id": "385e8b18-f0ea-4117-b6b9-d864b837ec44",
   "metadata": {},
   "outputs": [],
   "source": [
    "# your code"
   ]
  },
  {
   "cell_type": "markdown",
   "id": "1a0736d8-a5ed-4a4f-9f6d-294602c1d0e1",
   "metadata": {},
   "source": [
    "## Векторы"
   ]
  },
  {
   "cell_type": "markdown",
   "id": "1f2851f5-c3ef-4835-a371-315385a74b90",
   "metadata": {},
   "source": [
    "#### Создать пользовательский вектор"
   ]
  },
  {
   "cell_type": "code",
   "execution_count": null,
   "id": "0eb3d53a-c499-4c38-9e77-2ba4faf2907a",
   "metadata": {},
   "outputs": [],
   "source": []
  },
  {
   "cell_type": "markdown",
   "id": "360f0bb3-0215-4c18-acda-c809b1a7da66",
   "metadata": {},
   "source": [
    "#### Создать вектор с фиксированным шагом"
   ]
  },
  {
   "cell_type": "code",
   "execution_count": null,
   "id": "2233039f-c1a8-4fb8-b760-15ffa6d7f5f3",
   "metadata": {},
   "outputs": [],
   "source": []
  },
  {
   "cell_type": "markdown",
   "id": "d403136d-a12f-4c1c-ba02-be6ac1dc7369",
   "metadata": {},
   "source": [
    "#### Создать вектор с фиксированным количеством элементов с постоянным шагом"
   ]
  },
  {
   "cell_type": "code",
   "execution_count": null,
   "id": "bdf7fdf9-0120-4e3e-a71d-7705e5685c9f",
   "metadata": {},
   "outputs": [],
   "source": []
  },
  {
   "cell_type": "markdown",
   "id": "099e3eeb-96be-4507-a009-4d0dce9aa78e",
   "metadata": {},
   "source": [
    "#### Преобразовать матрицу в вектор"
   ]
  },
  {
   "cell_type": "code",
   "execution_count": null,
   "id": "6e7095c7-f844-44da-b8c2-8c6583032d30",
   "metadata": {},
   "outputs": [],
   "source": []
  },
  {
   "cell_type": "markdown",
   "id": "c3508218-d283-4576-9d8c-5ba38d5e5826",
   "metadata": {},
   "source": [
    "## Доступ к элементам матрицы"
   ]
  },
  {
   "cell_type": "markdown",
   "id": "768ec484-b751-41b7-889a-a6d4940e8753",
   "metadata": {},
   "source": [
    "#### Последняя строка матрицы"
   ]
  },
  {
   "cell_type": "code",
   "execution_count": null,
   "id": "536f687e-e8b5-4b92-b4ca-82eadad497a3",
   "metadata": {},
   "outputs": [],
   "source": []
  },
  {
   "cell_type": "markdown",
   "id": "7d8fcd24-2db9-4cb7-9d69-ecfc918d5945",
   "metadata": {},
   "source": [
    "#### 1 и 3-й столбец и 2, 3 и 5 -я строка"
   ]
  },
  {
   "cell_type": "code",
   "execution_count": 52,
   "id": "02d598a1-22b8-4b6b-a4b1-ed71c422b2eb",
   "metadata": {},
   "outputs": [],
   "source": []
  },
  {
   "cell_type": "markdown",
   "id": "b2eab9a6-9ddf-48e0-b503-31f186bb569d",
   "metadata": {},
   "source": [
    "#### Flip по строкам"
   ]
  },
  {
   "cell_type": "code",
   "execution_count": null,
   "id": "e82a1f49-da8d-442a-8fb1-7b8285d296bf",
   "metadata": {},
   "outputs": [],
   "source": []
  },
  {
   "cell_type": "markdown",
   "id": "ab39ea51-b53e-4db3-8070-0773ed327c65",
   "metadata": {},
   "source": [
    "### Логические индексы"
   ]
  },
  {
   "cell_type": "markdown",
   "id": "bdafa2f7-1012-4bea-8b27-3f833307e03d",
   "metadata": {},
   "source": [
    "####  Дана матрица (или вектор) случайных числе с нормальным распределением. Получить доступ к элементам, которые больше нуля"
   ]
  },
  {
   "cell_type": "code",
   "execution_count": 78,
   "id": "ef3966f4-7916-4c33-acb8-193f93711a45",
   "metadata": {},
   "outputs": [],
   "source": [
    "A = np.random.randn(3,4)"
   ]
  },
  {
   "cell_type": "markdown",
   "id": "2015d18e-89f6-4c32-a9e2-ba6802458dfb",
   "metadata": {},
   "source": [
    "## Арифметические операции"
   ]
  },
  {
   "cell_type": "markdown",
   "id": "071024fe-7aa7-4e13-88e6-427d85dcfc19",
   "metadata": {},
   "source": [
    "#### Поэлементные операции над векторами и матрицами"
   ]
  },
  {
   "cell_type": "code",
   "execution_count": 76,
   "id": "070aa922-3cb8-46e2-8246-621a53d56ab8",
   "metadata": {},
   "outputs": [],
   "source": [
    "a = np.random.rand(1,4)\n",
    "b = np.random.rand(1,4)\n",
    "c = np.arange(0,6)"
   ]
  },
  {
   "cell_type": "markdown",
   "id": "7ca4bd49-d9be-47a1-8cbc-b5946bd6a181",
   "metadata": {},
   "source": [
    "#### Умножить поэлементо вектор а на вектор b"
   ]
  },
  {
   "cell_type": "code",
   "execution_count": null,
   "id": "403142a1-0a8c-4835-911d-f2b2b5df8879",
   "metadata": {},
   "outputs": [],
   "source": []
  },
  {
   "cell_type": "markdown",
   "id": "cb9a2e6f-651d-43e1-be17-0cac7277dcc3",
   "metadata": {},
   "source": [
    "#### Возвести каждый элемент вектора c в квадрат"
   ]
  },
  {
   "cell_type": "code",
   "execution_count": null,
   "id": "fa69a9da-e6ca-4ba0-a214-5e02a718f99a",
   "metadata": {},
   "outputs": [],
   "source": []
  },
  {
   "cell_type": "markdown",
   "id": "f4ccbba5-1d55-4ab8-afb0-f75f1de06615",
   "metadata": {},
   "source": [
    "## Линейная алгебра"
   ]
  },
  {
   "cell_type": "markdown",
   "id": "e1285a6a-4960-4cda-910f-af2e4c96cfb3",
   "metadata": {},
   "source": [
    "#### Умножить матрицу размером 2х3 на матрицу размером 3х2"
   ]
  },
  {
   "cell_type": "code",
   "execution_count": null,
   "id": "9a3ecee3-3eb3-49b9-8a36-b72825299a11",
   "metadata": {},
   "outputs": [],
   "source": []
  },
  {
   "cell_type": "markdown",
   "id": "558ed3a8-4989-4965-adf9-4a7893f1a8c1",
   "metadata": {},
   "source": [
    "#### Найти норму вектора"
   ]
  },
  {
   "cell_type": "code",
   "execution_count": null,
   "id": "cf0c61be-9ef7-4899-8e7a-1786cd52418e",
   "metadata": {},
   "outputs": [],
   "source": []
  },
  {
   "cell_type": "markdown",
   "id": "5ee9f2c9-80e2-4d8c-be15-e6e3022b7cb1",
   "metadata": {},
   "source": [
    "#### Решить систему уравнение методом МНК\n",
    "A - матрица 5х3, у - вектор 5х1\n",
    "\n",
    "Система уравнений:\n",
    "$$ Ax = y $$\n",
    "\n",
    "Решение:\n",
    "$$ x = (A^T*A)^{-1} A^T y $$\n",
    "Проверить решение подстановкой в исходную систему, найти ошибки и посчитать среднее значение ошибки и СКО"
   ]
  },
  {
   "cell_type": "code",
   "execution_count": 85,
   "id": "28ce0768-068c-49d5-9957-a1903acd0340",
   "metadata": {},
   "outputs": [],
   "source": [
    "A = np.random.rand(5,3)\n",
    "y = np.random.rand(5,1)\n"
   ]
  },
  {
   "cell_type": "code",
   "execution_count": null,
   "id": "2de5de15-591f-4cf1-8c9e-d8a181c24db0",
   "metadata": {},
   "outputs": [],
   "source": []
  },
  {
   "cell_type": "markdown",
   "id": "59e60c99-39cc-4bc7-bd92-c105c857980a",
   "metadata": {},
   "source": [
    "## Статистика"
   ]
  },
  {
   "cell_type": "code",
   "execution_count": 127,
   "id": "685f2fa6-4ef3-415b-9207-9be5e73aaea9",
   "metadata": {},
   "outputs": [],
   "source": [
    "A = np.random.rand(5,3)"
   ]
  },
  {
   "cell_type": "markdown",
   "id": "be08075b-697b-43bd-94e6-221d3e62d734",
   "metadata": {},
   "source": [
    "#### Найти максимальный элемент матрицы A"
   ]
  },
  {
   "cell_type": "code",
   "execution_count": null,
   "id": "6cfa883f-82a8-4c6f-80a2-056c4e3e16cb",
   "metadata": {},
   "outputs": [],
   "source": []
  },
  {
   "cell_type": "markdown",
   "id": "6e682f3a-1d5b-4c99-b073-08ee78eeff25",
   "metadata": {},
   "source": [
    "#### Максиимальные элементы по первой размерности"
   ]
  },
  {
   "cell_type": "code",
   "execution_count": null,
   "id": "44813cbc-31ea-43cf-8cbe-fcb606cf53d0",
   "metadata": {},
   "outputs": [],
   "source": []
  },
  {
   "cell_type": "markdown",
   "id": "b1863847-c5b4-49c2-a145-232bc42e7938",
   "metadata": {},
   "source": [
    "#### Отсортировать элементы по первой колонке"
   ]
  },
  {
   "cell_type": "code",
   "execution_count": null,
   "id": "f7c9777e-88be-4af5-b37e-a724a615cfee",
   "metadata": {},
   "outputs": [],
   "source": []
  },
  {
   "cell_type": "markdown",
   "id": "d6d698cf-d6ef-4970-a19c-358246ddba80",
   "metadata": {},
   "source": [
    "#### Получить индексы отвортированных значений"
   ]
  },
  {
   "cell_type": "code",
   "execution_count": null,
   "id": "abe6ee3a-948c-4dff-9b89-94736b6d4967",
   "metadata": {},
   "outputs": [],
   "source": []
  },
  {
   "cell_type": "markdown",
   "id": "2b35fe49-b8b3-4ab5-9e5d-487450f290cc",
   "metadata": {},
   "source": [
    "## Множества"
   ]
  },
  {
   "cell_type": "code",
   "execution_count": 139,
   "id": "d3561233-7b82-4e92-a28d-1ffd8485b92b",
   "metadata": {},
   "outputs": [],
   "source": [
    "a = np.array([1,1,3,4,3,2,5])"
   ]
  },
  {
   "cell_type": "markdown",
   "id": "6239baa5-7a6e-4e54-8215-a87dfb110d7f",
   "metadata": {},
   "source": [
    "#### Найти уникальные элементы"
   ]
  },
  {
   "cell_type": "code",
   "execution_count": null,
   "id": "301dad1b-45cd-41e1-92c5-20f6f696ce4b",
   "metadata": {},
   "outputs": [],
   "source": []
  },
  {
   "cell_type": "markdown",
   "id": "9b124cd3-127f-41af-982a-fb7f8cd789b3",
   "metadata": {},
   "source": [
    "#### Удалить лишнюю размерность"
   ]
  },
  {
   "cell_type": "code",
   "execution_count": 141,
   "id": "5c06c33d-c19d-4d88-b79d-ea591db53541",
   "metadata": {},
   "outputs": [],
   "source": [
    "a = np.random.rand(3,1,4)"
   ]
  },
  {
   "cell_type": "code",
   "execution_count": null,
   "id": "33cb7d2e-a352-4e2a-a305-05005f796ce1",
   "metadata": {},
   "outputs": [],
   "source": []
  }
 ],
 "metadata": {
  "kernelspec": {
   "display_name": "Python 3 (ipykernel)",
   "language": "python",
   "name": "python3"
  },
  "language_info": {
   "codemirror_mode": {
    "name": "ipython",
    "version": 3
   },
   "file_extension": ".py",
   "mimetype": "text/x-python",
   "name": "python",
   "nbconvert_exporter": "python",
   "pygments_lexer": "ipython3",
   "version": "3.10.4"
  }
 },
 "nbformat": 4,
 "nbformat_minor": 5
}
